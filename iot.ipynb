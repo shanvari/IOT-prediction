{
  "cells": [
    {
      "cell_type": "code",
      "execution_count": 1,
      "id": "3c71bac0",
      "metadata": {
        "id": "3c71bac0"
      },
      "outputs": [],
      "source": [
        "import pandas as pd\n",
        "from sklearn.model_selection import train_test_split\n",
        "\n",
        "# read csv file\n",
        "df = pd.read_csv('Load_history.csv')\n",
        "\n",
        "# drop rows with NaN values\n",
        "df.dropna(inplace=True)\n",
        "\n",
        "# replace commas with empty strings and convert to integer\n",
        "for i in range(1,25):\n",
        "    var = 'h' + str(i)\n",
        "    df[var] = df[var].str.replace(',', '').astype(int)\n",
        "\n",
        "# split into features and target\n",
        "X = df.iloc[:, :-24]  # features are all columns except the last 24\n",
        "y = df.iloc[:, -24:]  # target is the last 24 columns\n",
        "\n",
        "# split into training and testing sets\n",
        "X_train, X_test, y_train, y_test = train_test_split(X, y, test_size=0.2, random_state=42)\n"
      ]
    },
    {
      "cell_type": "code",
      "execution_count": 4,
      "id": "6d7317fa",
      "metadata": {
        "id": "6d7317fa"
      },
      "outputs": [],
      "source": [
        "from sklearn.ensemble import RandomForestRegressor\n",
        "\n",
        "# create model\n",
        "rf_model = RandomForestRegressor(n_estimators=100, random_state=42)\n",
        "\n",
        "# train model\n",
        "rf_model.fit(X_train, y_train)\n",
        "# rf_model.fit(X, y)\n",
        "\n",
        "# make predictions\n",
        "y_pred = rf_model.predict(X_test)\n"
      ]
    },
    {
      "cell_type": "code",
      "execution_count": 5,
      "id": "78abac9d",
      "metadata": {
        "colab": {
          "base_uri": "https://localhost:8080/"
        },
        "id": "78abac9d",
        "outputId": "47d28139-f177-402d-ce9d-f1bf56a275aa"
      },
      "outputs": [
        {
          "name": "stdout",
          "output_type": "stream",
          "text": [
            "Mean Absolute Error: 6972.294033864025\n"
          ]
        }
      ],
      "source": [
        "from sklearn.metrics import mean_absolute_error\n",
        "\n",
        "# calculate MAE\n",
        "mae = mean_absolute_error(y_test, y_pred)\n",
        "\n",
        "print(\"Mean Absolute Error:\", mae)"
      ]
    },
    {
      "cell_type": "code",
      "execution_count": 8,
      "id": "772a9c96",
      "metadata": {
        "id": "772a9c96"
      },
      "outputs": [],
      "source": [
        "# read new csv file\n",
        "new_df = pd.read_csv('Benchmark.csv')\n",
        "\n",
        "# split into features and target\n",
        "X_new = new_df.iloc[:, 1:-24]  # features are all columns except the last 24\n",
        "y_new = new_df.iloc[:, -24:]  # target is the last 24 columns\n",
        "\n",
        "# make predictions\n",
        "y_pred_new = rf_model.predict(X_new)"
      ]
    },
    {
      "cell_type": "code",
      "execution_count": 9,
      "id": "afa154b5",
      "metadata": {
        "colab": {
          "base_uri": "https://localhost:8080/"
        },
        "id": "afa154b5",
        "outputId": "e7d47c4e-903c-4127-c51b-a1a9cad2b593"
      },
      "outputs": [
        {
          "name": "stdout",
          "output_type": "stream",
          "text": [
            "Mean Absolute Error: 88385.36602072309\n"
          ]
        }
      ],
      "source": [
        "from sklearn.metrics import mean_absolute_error\n",
        "\n",
        "# calculate MAE\n",
        "mae = mean_absolute_error(y_new, y_pred_new)\n",
        "\n",
        "print(\"Mean Absolute Error:\", mae)"
      ]
    },
    {
      "attachments": {},
      "cell_type": "markdown",
      "id": "YT7X4GjTOsJO",
      "metadata": {
        "id": "YT7X4GjTOsJO"
      },
      "source": [
        "#for months:"
      ]
    },
    {
      "cell_type": "code",
      "execution_count": 10,
      "id": "847628a5",
      "metadata": {
        "colab": {
          "base_uri": "https://localhost:8080/"
        },
        "id": "847628a5",
        "outputId": "90149243-430c-4bcb-a17d-06abcb7db297"
      },
      "outputs": [
        {
          "name": "stdout",
          "output_type": "stream",
          "text": [
            "   zone_id  year  month  day     h1     h2     h3     h4     h5     h6  ...  \\\n",
            "0        1  2004      1    1  16853  16450  16517  16873  17064  17727  ...   \n",
            "1        1  2004      1    2  14155  14038  14019  14489  14920  16072  ...   \n",
            "2        1  2004      1    3  14439  14272  14109  14081  14775  15491  ...   \n",
            "3        1  2004      1    4  11273  10415   9943   9859   9881  10248  ...   \n",
            "4        1  2004      1    5  10750  10321  10107  10065  10419  12101  ...   \n",
            "\n",
            "     h16    h17    h18    h19    h20    h21    h22    h23    h24     sum  \n",
            "0  13138  14130  16809  18150  18235  17925  16904  16162  14750  400880  \n",
            "1  15448  15839  17727  18895  18650  18443  17580  16467  15258  408157  \n",
            "2  13414  13826  15825  16996  16394  15406  14278  13315  12424  366696  \n",
            "3  13614  14162  16237  17430  17218  16633  15238  13580  11727  325465  \n",
            "4  14350  15501  17307  18786  19089  19192  18416  17006  16018  347519  \n",
            "\n",
            "[5 rows x 29 columns]\n",
            "  zone_id  year month      d1      d2      d3      d4      d5      d6      d7  \\\n",
            "0       1  2004     1  400880  408157  366696  325465  347519  520473  662065   \n",
            "1       1  2004     2  594537  586930  517295  480875  578468  586024  525958   \n",
            "2       1  2004     3  372811  332533  334004  310610  300048  309475  318968   \n",
            "3       1  2004     4  386518  405012  395183  415114  429137  388396  329940   \n",
            "4       1  2004     5  314768  334882  319299  340162  320571  343820  390141   \n",
            "\n",
            "   ...     d22     d23     d24     d25     d26     d27     d28     d29  \\\n",
            "0  ...  540602  597482  513066  726448  750697  636624  639349  542068   \n",
            "1  ...  452167  480274  442230  463725  551836  460187  455896  422002   \n",
            "2  ...  496634  475755  413676  335656  304711  314937  307267  332621   \n",
            "3  ...  336340  339076  355210  323934  314088  312386  335811  316909   \n",
            "4  ...  435089  447462  450725  465418  429888  416298  399358  421012   \n",
            "\n",
            "      d30       d31  \n",
            "0  553502  690997.0  \n",
            "1       0       NaN  \n",
            "2  402480  412822.0  \n",
            "3  302219       NaN  \n",
            "4  340090  402414.0  \n",
            "\n",
            "[5 rows x 34 columns]\n"
          ]
        }
      ],
      "source": [
        "#for month\n",
        "df['sum'] =0\n",
        "\n",
        "# replace commas with empty strings and convert to integer\n",
        "for i in range(1,25):\n",
        "    var = 'h' + str(i)\n",
        "    df['sum'] = df['sum'] + df[var]\n",
        "\n",
        "print(df.head())\n",
        "df_month = pd.DataFrame(columns= ['zone_id','year','month'])\n",
        "\n",
        "x = 0\n",
        "for i in range(2004,2009):\n",
        "  for z in range(1,21): \n",
        "    for j in range(1,13):\n",
        "      df_month.at[x,'year'] = i\n",
        "      df_month.at[x,'zone_id'] = z\n",
        "      df_month.at[x,'month'] = j\n",
        "      x += 1\n",
        "\n",
        "for i in range(1,31):\n",
        "    var = 'd' + str(i)\n",
        "    df_month[var] = 0\n",
        "\n",
        "\n",
        "for d in range(1,32):\n",
        "  for y in range(2004,2009):\n",
        "    for m in range(1,13):\n",
        "      for  z in  range(1, 21):      \n",
        "\n",
        "                 df_subset = df.loc[(df['year'] == y) & (df['month'] == m) & (df['day'] == d) & (df['zone_id'] == z)]\n",
        "                 df_subset = df_subset.dropna(subset=['sum'])  # drop empty cells in the 'sum' column\n",
        "                 if not df_subset.empty:\n",
        "                    df_month.loc[(df_month['year'] == y) & (df_month['month'] == m) & (df_month['zone_id'] == z), 'd' + str(d)] = int(df_subset['sum'])\n",
        "\n",
        "#print(df_month.head())\n",
        "\n",
        "df_month.to_csv(\"month.csv\")"
      ]
    },
    {
      "cell_type": "code",
      "execution_count": null,
      "id": "10f3ea77",
      "metadata": {},
      "outputs": [],
      "source": [
        "import numpy as np\n",
        "import pandas as pd\n",
        "from sklearn.model_selection import train_test_split\n",
        "from sklearn.preprocessing import StandardScaler\n",
        "from keras.models import Sequential\n",
        "from keras.layers import Dense\n",
        "\n",
        "# Load the dataset\n",
        "# Replace this with your own dataset or data preprocessing code\n",
        "# Make sure to have your data in a format suitable for training an ANN\n",
        "data = pd.read_csv('month.csv')\n",
        "X = data.iloc[:, 0:4] # Features\n",
        "y = data.iloc[:, 4:] # Target variables\n",
        "\n",
        "# Split the dataset into training and testing sets\n",
        "X_train, X_test, y_train, y_test = train_test_split(X, y, test_size=0.2, random_state=42)\n",
        "\n",
        "# Data preprocessing\n",
        "# You may need to scale or normalize your data depending on the type of data you have\n",
        "scaler = StandardScaler()\n",
        "X_train = scaler.fit_transform(X_train)\n",
        "X_test = scaler.transform(X_test)\n",
        "\n",
        "# Build the ANN model\n",
        "model = Sequential()\n",
        "# Add input layer\n",
        "model.add(Dense(units=64, activation='relu', input_dim=X_train.shape[1]))\n",
        "# Add hidden layers\n",
        "model.add(Dense(units=128, activation='relu'))\n",
        "model.add(Dense(units=64, activation='relu'))\n",
        "# Add output layer with multiple units for multiple target variables\n",
        "model.add(Dense(units=y_train.shape[1], activation='sigmoid'))\n",
        "\n",
        "# Compile the model\n",
        "model.compile(optimizer='adam', loss='binary_crossentropy', metrics=['accuracy'])\n",
        "\n",
        "# Train the model\n",
        "model.fit(X_train, y_train, batch_size=32, epochs=10, verbose=1)\n",
        "\n",
        "# Evaluate the model\n",
        "loss, accuracy = model.evaluate(X_test, y_test)\n",
        "print('Test loss:', loss)\n",
        "print('Test accuracy:', accuracy)\n"
      ]
    }
  ],
  "metadata": {
    "colab": {
      "provenance": []
    },
    "kernelspec": {
      "display_name": "Python 3",
      "language": "python",
      "name": "python3"
    },
    "language_info": {
      "codemirror_mode": {
        "name": "ipython",
        "version": 3
      },
      "file_extension": ".py",
      "mimetype": "text/x-python",
      "name": "python",
      "nbconvert_exporter": "python",
      "pygments_lexer": "ipython3",
      "version": "3.8.3rc1"
    }
  },
  "nbformat": 4,
  "nbformat_minor": 5
}
